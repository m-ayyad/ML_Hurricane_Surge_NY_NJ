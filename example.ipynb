{
 "cells": [
  {
   "cell_type": "code",
   "execution_count": null,
   "metadata": {},
   "outputs": [],
   "source": [
    "import matplotlib.pyplot as plt\n",
    "import pandas as pd\n",
    "import numpy as np\n",
    "from joblib import load"
   ]
  },
  {
   "cell_type": "markdown",
   "metadata": {},
   "source": [
    "# Initialization"
   ]
  },
  {
   "cell_type": "code",
   "execution_count": null,
   "metadata": {},
   "outputs": [],
   "source": [
    "ML_dir = \"ML_models/\" # Directory for the trained ML models\n",
    "Max_dir = \"Maximum_value_for_scaling/\" # Directory for the scaling parameters\n",
    "\n",
    "station_name = # The name of the station. It should be similar to the names in \"stations.csv\" file"
   ]
  },
  {
   "cell_type": "code",
   "execution_count": null,
   "metadata": {},
   "outputs": [],
   "source": [
    "def load_maximum_values(file_name):\n",
    "    \n",
    "    file = open(Max_dir + file_name)\n",
    "    all_lines = file.readlines()\n",
    "    file.close\n",
    "    \n",
    "    maximum_values = []\n",
    "    for line in all_lines:\n",
    "        maximum_values.append(float(line[1:-2]))\n",
    "    \n",
    "    return(maximum_values)"
   ]
  },
  {
   "cell_type": "code",
   "execution_count": null,
   "metadata": {},
   "outputs": [],
   "source": [
    "# You have to load your data in this cell\n",
    "# It should follow the the same order of input parameters as described in the Readme file\n",
    "dataset_dir = None # replace the None with your directory\n",
    "data = pd.read_csv(dataset_dir)\n",
    "\n",
    "# read the minimum distance as dmin. It should be in Km\n",
    "dmin = data[None] # replace the None with the minimum distance definition"
   ]
  },
  {
   "cell_type": "code",
   "execution_count": null,
   "metadata": {},
   "outputs": [],
   "source": [
    "# load ML model\n",
    "if dmin <= 100:\n",
    "    ML_model = load(ML_dir + station_name + \"_less_100.joblib\")\n",
    "else:\n",
    "    ML_model= load(ML_dir + station_name + \"_more_100.joblib\")\n",
    "    \n",
    "# load maximum values for scaling\n",
    "if dmin <= 100:\n",
    "    scaling_params = load_maximum_values(\"maximum_\" + station_name + \"_less_100.txt\")\n",
    "else:\n",
    "    scaling_params = load_maximum_values(\"maximum_\" + station_name + \"_more_100.txt\")\n",
    "    \n",
    "# Scaling of your parameters    \n",
    "Input = data.values\n",
    "    \n",
    "for i in range(Input.shape[1]):\n",
    "    Input[:,i] /= scaling_params[i]\n",
    "        \n",
    "# Predict the corresponding peak storm surge height  \n",
    "prediction = ML_model.predict(Input)\n",
    "    "
   ]
  }
 ],
 "metadata": {
  "kernelspec": {
   "display_name": "Python 3 (ipykernel)",
   "language": "python",
   "name": "python3"
  },
  "language_info": {
   "codemirror_mode": {
    "name": "ipython",
    "version": 3
   },
   "file_extension": ".py",
   "mimetype": "text/x-python",
   "name": "python",
   "nbconvert_exporter": "python",
   "pygments_lexer": "ipython3",
   "version": "3.10.6"
  }
 },
 "nbformat": 4,
 "nbformat_minor": 4
}
